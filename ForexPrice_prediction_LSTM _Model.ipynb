{
 "cells": [
  {
   "cell_type": "code",
   "execution_count": 1,
   "metadata": {},
   "outputs": [],
   "source": [
    "#Imported libraries :\n",
    "import numpy as np\n",
    "import matplotlib.pyplot as plt\n",
    "import pandas as pd\n",
    "import yfinance as yf\n",
    "import math\n",
    "plt.style.use('seaborn-whitegrid')"
   ]
  },
  {
   "cell_type": "code",
   "execution_count": 3,
   "metadata": {},
   "outputs": [
    {
     "name": "stdout",
     "output_type": "stream",
     "text": [
      "[*********************100%***********************]  1 of 1 completed\n"
     ]
    }
   ],
   "source": [
    "data=yf.download(tickers='USD',start='2011-12-31',end='2020-12-31',interval ='1d')"
   ]
  },
  {
   "cell_type": "code",
   "execution_count": 4,
   "metadata": {},
   "outputs": [
    {
     "data": {
      "text/html": [
       "<div>\n",
       "<style scoped>\n",
       "    .dataframe tbody tr th:only-of-type {\n",
       "        vertical-align: middle;\n",
       "    }\n",
       "\n",
       "    .dataframe tbody tr th {\n",
       "        vertical-align: top;\n",
       "    }\n",
       "\n",
       "    .dataframe thead th {\n",
       "        text-align: right;\n",
       "    }\n",
       "</style>\n",
       "<table border=\"1\" class=\"dataframe\">\n",
       "  <thead>\n",
       "    <tr style=\"text-align: right;\">\n",
       "      <th></th>\n",
       "      <th>Open</th>\n",
       "      <th>High</th>\n",
       "      <th>Low</th>\n",
       "      <th>Close</th>\n",
       "      <th>Adj Close</th>\n",
       "      <th>Volume</th>\n",
       "    </tr>\n",
       "    <tr>\n",
       "      <th>Date</th>\n",
       "      <th></th>\n",
       "      <th></th>\n",
       "      <th></th>\n",
       "      <th></th>\n",
       "      <th></th>\n",
       "      <th></th>\n",
       "    </tr>\n",
       "  </thead>\n",
       "  <tbody>\n",
       "    <tr>\n",
       "      <th>2011-12-30</th>\n",
       "      <td>5.721667</td>\n",
       "      <td>5.780000</td>\n",
       "      <td>5.650000</td>\n",
       "      <td>5.650000</td>\n",
       "      <td>5.339035</td>\n",
       "      <td>343200</td>\n",
       "    </tr>\n",
       "    <tr>\n",
       "      <th>2012-01-03</th>\n",
       "      <td>5.850000</td>\n",
       "      <td>5.945000</td>\n",
       "      <td>5.733333</td>\n",
       "      <td>5.775000</td>\n",
       "      <td>5.457153</td>\n",
       "      <td>452400</td>\n",
       "    </tr>\n",
       "    <tr>\n",
       "      <th>2012-01-04</th>\n",
       "      <td>5.735000</td>\n",
       "      <td>5.858333</td>\n",
       "      <td>5.693333</td>\n",
       "      <td>5.848333</td>\n",
       "      <td>5.526451</td>\n",
       "      <td>96600</td>\n",
       "    </tr>\n",
       "    <tr>\n",
       "      <th>2012-01-05</th>\n",
       "      <td>5.835000</td>\n",
       "      <td>6.035000</td>\n",
       "      <td>5.826667</td>\n",
       "      <td>6.028333</td>\n",
       "      <td>5.696543</td>\n",
       "      <td>267600</td>\n",
       "    </tr>\n",
       "    <tr>\n",
       "      <th>2012-01-06</th>\n",
       "      <td>5.933333</td>\n",
       "      <td>6.045000</td>\n",
       "      <td>5.916667</td>\n",
       "      <td>6.018333</td>\n",
       "      <td>5.687096</td>\n",
       "      <td>147000</td>\n",
       "    </tr>\n",
       "  </tbody>\n",
       "</table>\n",
       "</div>"
      ],
      "text/plain": [
       "                Open      High       Low     Close  Adj Close  Volume\n",
       "Date                                                                 \n",
       "2011-12-30  5.721667  5.780000  5.650000  5.650000   5.339035  343200\n",
       "2012-01-03  5.850000  5.945000  5.733333  5.775000   5.457153  452400\n",
       "2012-01-04  5.735000  5.858333  5.693333  5.848333   5.526451   96600\n",
       "2012-01-05  5.835000  6.035000  5.826667  6.028333   5.696543  267600\n",
       "2012-01-06  5.933333  6.045000  5.916667  6.018333   5.687096  147000"
      ]
     },
     "execution_count": 4,
     "metadata": {},
     "output_type": "execute_result"
    }
   ],
   "source": [
    "data.head()"
   ]
  },
  {
   "cell_type": "code",
   "execution_count": 5,
   "metadata": {},
   "outputs": [
    {
     "data": {
      "text/html": [
       "<div>\n",
       "<style scoped>\n",
       "    .dataframe tbody tr th:only-of-type {\n",
       "        vertical-align: middle;\n",
       "    }\n",
       "\n",
       "    .dataframe tbody tr th {\n",
       "        vertical-align: top;\n",
       "    }\n",
       "\n",
       "    .dataframe thead th {\n",
       "        text-align: right;\n",
       "    }\n",
       "</style>\n",
       "<table border=\"1\" class=\"dataframe\">\n",
       "  <thead>\n",
       "    <tr style=\"text-align: right;\">\n",
       "      <th></th>\n",
       "      <th>Open</th>\n",
       "      <th>High</th>\n",
       "      <th>Low</th>\n",
       "      <th>Close</th>\n",
       "      <th>Adj Close</th>\n",
       "      <th>Volume</th>\n",
       "    </tr>\n",
       "    <tr>\n",
       "      <th>Date</th>\n",
       "      <th></th>\n",
       "      <th></th>\n",
       "      <th></th>\n",
       "      <th></th>\n",
       "      <th></th>\n",
       "      <th></th>\n",
       "    </tr>\n",
       "  </thead>\n",
       "  <tbody>\n",
       "    <tr>\n",
       "      <th>2020-12-23</th>\n",
       "      <td>100.669998</td>\n",
       "      <td>100.930000</td>\n",
       "      <td>98.790001</td>\n",
       "      <td>98.790001</td>\n",
       "      <td>98.790001</td>\n",
       "      <td>34700</td>\n",
       "    </tr>\n",
       "    <tr>\n",
       "      <th>2020-12-24</th>\n",
       "      <td>99.220001</td>\n",
       "      <td>100.320000</td>\n",
       "      <td>98.989998</td>\n",
       "      <td>99.870003</td>\n",
       "      <td>99.870003</td>\n",
       "      <td>29500</td>\n",
       "    </tr>\n",
       "    <tr>\n",
       "      <th>2020-12-28</th>\n",
       "      <td>102.059998</td>\n",
       "      <td>102.169998</td>\n",
       "      <td>99.400002</td>\n",
       "      <td>99.589996</td>\n",
       "      <td>99.589996</td>\n",
       "      <td>28500</td>\n",
       "    </tr>\n",
       "    <tr>\n",
       "      <th>2020-12-29</th>\n",
       "      <td>100.279999</td>\n",
       "      <td>100.300003</td>\n",
       "      <td>97.150002</td>\n",
       "      <td>99.489998</td>\n",
       "      <td>99.489998</td>\n",
       "      <td>51400</td>\n",
       "    </tr>\n",
       "    <tr>\n",
       "      <th>2020-12-30</th>\n",
       "      <td>100.129997</td>\n",
       "      <td>103.000000</td>\n",
       "      <td>100.129997</td>\n",
       "      <td>102.459999</td>\n",
       "      <td>102.459999</td>\n",
       "      <td>34200</td>\n",
       "    </tr>\n",
       "  </tbody>\n",
       "</table>\n",
       "</div>"
      ],
      "text/plain": [
       "                  Open        High         Low       Close   Adj Close  Volume\n",
       "Date                                                                          \n",
       "2020-12-23  100.669998  100.930000   98.790001   98.790001   98.790001   34700\n",
       "2020-12-24   99.220001  100.320000   98.989998   99.870003   99.870003   29500\n",
       "2020-12-28  102.059998  102.169998   99.400002   99.589996   99.589996   28500\n",
       "2020-12-29  100.279999  100.300003   97.150002   99.489998   99.489998   51400\n",
       "2020-12-30  100.129997  103.000000  100.129997  102.459999  102.459999   34200"
      ]
     },
     "execution_count": 5,
     "metadata": {},
     "output_type": "execute_result"
    }
   ],
   "source": [
    "data.tail()"
   ]
  },
  {
   "cell_type": "code",
   "execution_count": 6,
   "metadata": {},
   "outputs": [
    {
     "data": {
      "text/plain": [
       "(2265, 6)"
      ]
     },
     "execution_count": 6,
     "metadata": {},
     "output_type": "execute_result"
    }
   ],
   "source": [
    "data.shape"
   ]
  },
  {
   "cell_type": "code",
   "execution_count": 7,
   "metadata": {},
   "outputs": [],
   "source": [
    "data_close = data.filter(['Close'])\n",
    "forex_df = data_close.reset_index('Date')"
   ]
  },
  {
   "cell_type": "code",
   "execution_count": 8,
   "metadata": {},
   "outputs": [
    {
     "data": {
      "text/html": [
       "<div>\n",
       "<style scoped>\n",
       "    .dataframe tbody tr th:only-of-type {\n",
       "        vertical-align: middle;\n",
       "    }\n",
       "\n",
       "    .dataframe tbody tr th {\n",
       "        vertical-align: top;\n",
       "    }\n",
       "\n",
       "    .dataframe thead th {\n",
       "        text-align: right;\n",
       "    }\n",
       "</style>\n",
       "<table border=\"1\" class=\"dataframe\">\n",
       "  <thead>\n",
       "    <tr style=\"text-align: right;\">\n",
       "      <th></th>\n",
       "      <th>Date</th>\n",
       "      <th>Close</th>\n",
       "    </tr>\n",
       "  </thead>\n",
       "  <tbody>\n",
       "    <tr>\n",
       "      <th>0</th>\n",
       "      <td>2011-12-30</td>\n",
       "      <td>5.650000</td>\n",
       "    </tr>\n",
       "    <tr>\n",
       "      <th>1</th>\n",
       "      <td>2012-01-03</td>\n",
       "      <td>5.775000</td>\n",
       "    </tr>\n",
       "    <tr>\n",
       "      <th>2</th>\n",
       "      <td>2012-01-04</td>\n",
       "      <td>5.848333</td>\n",
       "    </tr>\n",
       "    <tr>\n",
       "      <th>3</th>\n",
       "      <td>2012-01-05</td>\n",
       "      <td>6.028333</td>\n",
       "    </tr>\n",
       "    <tr>\n",
       "      <th>4</th>\n",
       "      <td>2012-01-06</td>\n",
       "      <td>6.018333</td>\n",
       "    </tr>\n",
       "  </tbody>\n",
       "</table>\n",
       "</div>"
      ],
      "text/plain": [
       "        Date     Close\n",
       "0 2011-12-30  5.650000\n",
       "1 2012-01-03  5.775000\n",
       "2 2012-01-04  5.848333\n",
       "3 2012-01-05  6.028333\n",
       "4 2012-01-06  6.018333"
      ]
     },
     "execution_count": 8,
     "metadata": {},
     "output_type": "execute_result"
    }
   ],
   "source": [
    "forex_df.head()"
   ]
  },
  {
   "cell_type": "code",
   "execution_count": 9,
   "metadata": {},
   "outputs": [
    {
     "data": {
      "text/html": [
       "<div>\n",
       "<style scoped>\n",
       "    .dataframe tbody tr th:only-of-type {\n",
       "        vertical-align: middle;\n",
       "    }\n",
       "\n",
       "    .dataframe tbody tr th {\n",
       "        vertical-align: top;\n",
       "    }\n",
       "\n",
       "    .dataframe thead th {\n",
       "        text-align: right;\n",
       "    }\n",
       "</style>\n",
       "<table border=\"1\" class=\"dataframe\">\n",
       "  <thead>\n",
       "    <tr style=\"text-align: right;\">\n",
       "      <th></th>\n",
       "      <th>Date</th>\n",
       "      <th>Close</th>\n",
       "    </tr>\n",
       "  </thead>\n",
       "  <tbody>\n",
       "    <tr>\n",
       "      <th>2260</th>\n",
       "      <td>2020-12-23</td>\n",
       "      <td>98.790001</td>\n",
       "    </tr>\n",
       "    <tr>\n",
       "      <th>2261</th>\n",
       "      <td>2020-12-24</td>\n",
       "      <td>99.870003</td>\n",
       "    </tr>\n",
       "    <tr>\n",
       "      <th>2262</th>\n",
       "      <td>2020-12-28</td>\n",
       "      <td>99.589996</td>\n",
       "    </tr>\n",
       "    <tr>\n",
       "      <th>2263</th>\n",
       "      <td>2020-12-29</td>\n",
       "      <td>99.489998</td>\n",
       "    </tr>\n",
       "    <tr>\n",
       "      <th>2264</th>\n",
       "      <td>2020-12-30</td>\n",
       "      <td>102.459999</td>\n",
       "    </tr>\n",
       "  </tbody>\n",
       "</table>\n",
       "</div>"
      ],
      "text/plain": [
       "           Date       Close\n",
       "2260 2020-12-23   98.790001\n",
       "2261 2020-12-24   99.870003\n",
       "2262 2020-12-28   99.589996\n",
       "2263 2020-12-29   99.489998\n",
       "2264 2020-12-30  102.459999"
      ]
     },
     "execution_count": 9,
     "metadata": {},
     "output_type": "execute_result"
    }
   ],
   "source": [
    "forex_df.tail()"
   ]
  },
  {
   "cell_type": "code",
   "execution_count": 12,
   "metadata": {},
   "outputs": [],
   "source": [
    "#Train Data:\n",
    "\n",
    "train_JA = forex_df[(forex_df['Date'] >= '2011-12-30') & (forex_df['Date'] <= '2019-12-31')]"
   ]
  },
  {
   "cell_type": "code",
   "execution_count": 13,
   "metadata": {},
   "outputs": [],
   "source": [
    "#Test Data:\n",
    "\n",
    "test_JA = forex_df[(forex_df['Date'] >= '2020-01-01') & (forex_df['Date'] <= '2020-12-30')]"
   ]
  },
  {
   "cell_type": "code",
   "execution_count": 14,
   "metadata": {},
   "outputs": [
    {
     "name": "stdout",
     "output_type": "stream",
     "text": [
      "(2013, 2)\n",
      "(252, 2)\n"
     ]
    }
   ],
   "source": [
    "print(train_JA.shape)\n",
    "print(test_JA.shape)"
   ]
  },
  {
   "cell_type": "code",
   "execution_count": 15,
   "metadata": {},
   "outputs": [],
   "source": [
    "#selecting the target variables:\n",
    "train_df = train_JA.iloc[:, 1:2].values\n",
    "\n",
    "#selecting testing data variables:\n",
    "test_df = test_JA.iloc[:, 1:2].values"
   ]
  },
  {
   "cell_type": "code",
   "execution_count": 16,
   "metadata": {},
   "outputs": [
    {
     "name": "stdout",
     "output_type": "stream",
     "text": [
      "(2013, 1)\n",
      "(252, 1)\n"
     ]
    }
   ],
   "source": [
    "print(train_df.shape)\n",
    "print(test_df.shape)"
   ]
  },
  {
   "cell_type": "code",
   "execution_count": 17,
   "metadata": {},
   "outputs": [],
   "source": [
    "# Apply normalization before feeding to LSTM using sklearn:\n",
    "from sklearn.preprocessing import MinMaxScaler\n",
    "\n",
    "scaler = MinMaxScaler()\n",
    "train_df = train_df.reshape(-1,1)\n",
    "test_df = test_df.reshape(-1,1)\n",
    "\n",
    "scaler.fit(train_df)\n",
    "train_df = scaler.transform(train_df)\n",
    "\n",
    "scaler.fit(test_df)\n",
    "test_df = scaler.transform(test_df)"
   ]
  },
  {
   "cell_type": "code",
   "execution_count": 18,
   "metadata": {},
   "outputs": [],
   "source": [
    "# convert an array of values into a dataset matrix\n",
    "def create_dataset(dataset, look_back):\n",
    "    dataX, dataY = [], []\n",
    "    for i in range(len(dataset)-look_back):\n",
    "        a = dataset[i:(i + look_back), 0]\n",
    "        dataX.append(a)\n",
    "        dataY.append(dataset[i + look_back, 0])\n",
    "    return np.array(dataX), np.array(dataY)"
   ]
  },
  {
   "cell_type": "code",
   "execution_count": 19,
   "metadata": {},
   "outputs": [
    {
     "name": "stdout",
     "output_type": "stream",
     "text": [
      "(1923, 90, 1)\n",
      "(162, 90, 1)\n"
     ]
    }
   ],
   "source": [
    "# Create the data to train our model on:\n",
    "time_steps = 90\n",
    "X_train, y_train = create_dataset(train_df, time_steps)\n",
    "X_test, y_test = create_dataset(test_df, time_steps)\n",
    "\n",
    "# reshape it [samples, time steps, features]\n",
    "X_train = np.reshape(X_train, (X_train.shape[0], 90, 1))\n",
    "X_test = np.reshape(X_test, (X_test.shape[0], 90, 1))\n",
    "\n",
    "print(X_train.shape)\n",
    "print(X_test.shape)"
   ]
  },
  {
   "cell_type": "code",
   "execution_count": 20,
   "metadata": {},
   "outputs": [
    {
     "name": "stderr",
     "output_type": "stream",
     "text": [
      "Using TensorFlow backend.\n"
     ]
    }
   ],
   "source": [
    "#LSTM Model:\n",
    "\n",
    "from keras.models import Sequential\n",
    "from keras.layers import Dense\n",
    "from keras.layers import LSTM\n",
    "from keras.layers import Dropout\n",
    "from sklearn.metrics import mean_squared_error\n",
    "from statsmodels.tools.eval_measures import rmse\n",
    "import warnings\n",
    "warnings.filterwarnings(\"ignore\")"
   ]
  },
  {
   "cell_type": "code",
   "execution_count": 21,
   "metadata": {},
   "outputs": [],
   "source": [
    "# Build the model \n",
    "model = Sequential()\n",
    "\n",
    "model.add(LSTM(units = 100,return_sequences = True, input_shape = (X_train.shape[1], 1)))\n",
    "model.add(Dropout(0.2))\n",
    "\n",
    "model.add(LSTM(units = 100, return_sequences = True))\n",
    "model.add(Dropout(0.2))\n",
    "\n",
    "\n",
    "model.add(LSTM(units = 100, return_sequences = True))\n",
    "model.add(Dropout(0.2))\n",
    "\n",
    "model.add(LSTM(units = 100, return_sequences = False))\n",
    "model.add(Dropout(0.2))\n",
    "\n",
    "# Output layer\n",
    "model.add(Dense(units = 1))"
   ]
  },
  {
   "cell_type": "code",
   "execution_count": 22,
   "metadata": {},
   "outputs": [
    {
     "name": "stdout",
     "output_type": "stream",
     "text": [
      "Train on 1346 samples, validate on 577 samples\n",
      "Epoch 1/20\n",
      "1346/1346 [==============================] - 155s 115ms/step - loss: 0.0018 - accuracy: 7.4294e-04 - val_loss: 0.0055 - val_accuracy: 0.0017\n",
      "Epoch 2/20\n",
      "1346/1346 [==============================] - 153s 113ms/step - loss: 5.8199e-04 - accuracy: 7.4294e-04 - val_loss: 0.0246 - val_accuracy: 0.0017\n",
      "Epoch 3/20\n",
      "1346/1346 [==============================] - 151s 112ms/step - loss: 6.3783e-04 - accuracy: 7.4294e-04 - val_loss: 0.0225 - val_accuracy: 0.0017\n",
      "Epoch 4/20\n",
      "1346/1346 [==============================] - 155s 115ms/step - loss: 4.7343e-04 - accuracy: 7.4294e-04 - val_loss: 0.0041 - val_accuracy: 0.0017\n",
      "Epoch 5/20\n",
      "1346/1346 [==============================] - 147s 109ms/step - loss: 5.7662e-04 - accuracy: 7.4294e-04 - val_loss: 0.0179 - val_accuracy: 0.0017\n",
      "Epoch 6/20\n",
      "1346/1346 [==============================] - 149s 110ms/step - loss: 5.2209e-04 - accuracy: 7.4294e-04 - val_loss: 0.0034 - val_accuracy: 0.0017\n",
      "Epoch 7/20\n",
      "1346/1346 [==============================] - 147s 109ms/step - loss: 4.3243e-04 - accuracy: 7.4294e-04 - val_loss: 0.0081 - val_accuracy: 0.0017\n",
      "Epoch 8/20\n",
      "1346/1346 [==============================] - 145s 108ms/step - loss: 4.0104e-04 - accuracy: 7.4294e-04 - val_loss: 0.0070 - val_accuracy: 0.0017\n",
      "Epoch 9/20\n",
      "1346/1346 [==============================] - 142s 106ms/step - loss: 4.1547e-04 - accuracy: 7.4294e-04 - val_loss: 0.0024 - val_accuracy: 0.0017\n",
      "Epoch 10/20\n",
      "1346/1346 [==============================] - 143s 107ms/step - loss: 3.3941e-04 - accuracy: 7.4294e-04 - val_loss: 0.0031 - val_accuracy: 0.0017\n",
      "Epoch 11/20\n",
      "1346/1346 [==============================] - 149s 111ms/step - loss: 3.0492e-04 - accuracy: 7.4294e-04 - val_loss: 0.0023 - val_accuracy: 0.0017\n",
      "Epoch 12/20\n",
      "1346/1346 [==============================] - 152s 113ms/step - loss: 4.2652e-04 - accuracy: 7.4294e-04 - val_loss: 0.0023 - val_accuracy: 0.0017\n",
      "Epoch 13/20\n",
      "1346/1346 [==============================] - 164s 122ms/step - loss: 3.3407e-04 - accuracy: 7.4294e-04 - val_loss: 0.0023 - val_accuracy: 0.0017\n",
      "Epoch 14/20\n",
      "1346/1346 [==============================] - 160s 119ms/step - loss: 4.6773e-04 - accuracy: 7.4294e-04 - val_loss: 0.0018 - val_accuracy: 0.0017\n",
      "Epoch 15/20\n",
      "1346/1346 [==============================] - 153s 114ms/step - loss: 3.2867e-04 - accuracy: 7.4294e-04 - val_loss: 0.0039 - val_accuracy: 0.0017\n",
      "Epoch 16/20\n",
      "1346/1346 [==============================] - 146s 108ms/step - loss: 3.3298e-04 - accuracy: 7.4294e-04 - val_loss: 0.0017 - val_accuracy: 0.0017\n",
      "Epoch 17/20\n",
      "1346/1346 [==============================] - 143s 106ms/step - loss: 2.8409e-04 - accuracy: 7.4294e-04 - val_loss: 0.0037 - val_accuracy: 0.0017\n",
      "Epoch 18/20\n",
      "1346/1346 [==============================] - 143s 106ms/step - loss: 3.0292e-04 - accuracy: 7.4294e-04 - val_loss: 0.0020 - val_accuracy: 0.0017\n",
      "Epoch 19/20\n",
      "1346/1346 [==============================] - 143s 106ms/step - loss: 2.8599e-04 - accuracy: 7.4294e-04 - val_loss: 0.0060 - val_accuracy: 0.0017\n",
      "Epoch 20/20\n",
      "1346/1346 [==============================] - 143s 106ms/step - loss: 2.7698e-04 - accuracy: 7.4294e-04 - val_loss: 0.0016 - val_accuracy: 0.0017\n"
     ]
    }
   ],
   "source": [
    "# Compiling the model\n",
    "model.compile(optimizer = 'adam', loss = 'mean_squared_error', metrics=['accuracy'])\n",
    "\n",
    "# Fitting the model to the Training set\n",
    "history = model.fit(X_train, y_train, epochs = 20, batch_size = 10, validation_split=.30)"
   ]
  },
  {
   "cell_type": "code",
   "execution_count": 23,
   "metadata": {},
   "outputs": [],
   "source": [
    "# Prediction:\n",
    "\n",
    "#styling to the Graphs: GGPlot..!!\n",
    "plt.style.use('ggplot')\n",
    "plt.rcParams['figure.figsize'] = (14, 6)"
   ]
  },
  {
   "cell_type": "code",
   "execution_count": 24,
   "metadata": {},
   "outputs": [],
   "source": [
    "# save the model to disk\n",
    "import pickle\n",
    "filename = 'Forex_Predict_TS20.sav'\n",
    "pickle.dump(model, open(filename, 'wb'))"
   ]
  },
  {
   "cell_type": "code",
   "execution_count": 25,
   "metadata": {},
   "outputs": [
    {
     "data": {
      "image/png": "[encoded data removed]",
      "text/plain": [
       "<Figure size 1008x432 with 1 Axes>"
      ]
     },
     "metadata": {},
     "output_type": "display_data"
    }
   ],
   "source": [
    "# Plot training & validation loss values\n",
    "plt.plot(history.history['loss'])\n",
    "plt.plot(history.history['val_loss'])\n",
    "plt.title('Model loss')\n",
    "plt.ylabel('Loss')\n",
    "plt.xlabel('Epoch')\n",
    "plt.legend(['Train', 'Test'], loc='upper left')\n",
    "plt.show()"
   ]
  },
  {
   "cell_type": "code",
   "execution_count": 26,
   "metadata": {},
   "outputs": [],
   "source": [
    "# Predict the prices with the model\n",
    "predicted_test = model.predict(X_test)\n",
    "predict_train = model.predict(X_train)"
   ]
  },
  {
   "cell_type": "code",
   "execution_count": 27,
   "metadata": {},
   "outputs": [
    {
     "name": "stdout",
     "output_type": "stream",
     "text": [
      "Train RMSE: 0.02\n",
      "Test RMSE: 0.05\n"
     ]
    }
   ],
   "source": [
    "import math\n",
    "trainScore = math.sqrt(mean_squared_error(y_train, predict_train[:,0]))\n",
    "print('Train RMSE: %.2f' % (trainScore))\n",
    "\n",
    "testScore = math.sqrt(mean_squared_error(y_test, predicted_test[:,0]))\n",
    "print('Test RMSE: %.2f' % (testScore))"
   ]
  },
  {
   "cell_type": "code",
   "execution_count": 28,
   "metadata": {},
   "outputs": [],
   "source": [
    "predicted_y = scaler.inverse_transform(predicted_test)"
   ]
  },
  {
   "cell_type": "code",
   "execution_count": 29,
   "metadata": {},
   "outputs": [],
   "source": [
    "# store the original vals for plotting the predictions \n",
    "y_test = y_test.reshape(-1,1)\n",
    "org_y = scaler.inverse_transform(y_test)"
   ]
  },
  {
   "cell_type": "code",
   "execution_count": 30,
   "metadata": {},
   "outputs": [
    {
     "data": {
      "text/plain": [
       "(162, 1)"
      ]
     },
     "execution_count": 30,
     "metadata": {},
     "output_type": "execute_result"
    }
   ],
   "source": [
    "predicted_y.shape"
   ]
  },
  {
   "cell_type": "code",
   "execution_count": 31,
   "metadata": {},
   "outputs": [
    {
     "data": {
      "image/png": "[encoded data removed]",
      "text/plain": [
       "<Figure size 1008x432 with 1 Axes>"
      ]
     },
     "metadata": {},
     "output_type": "display_data"
    }
   ],
   "source": [
    "# plot the results\n",
    "plt.plot(org_y, color = 'red', label = 'Real Forex Euro Price')\n",
    "plt.plot(predicted_y, color = 'blue', label = 'Predicted Euro Price')\n",
    "plt.title('Forex Euro Currency Prediction')\n",
    "plt.xlabel('Date Time')\n",
    "plt.ylabel('Forex Euro Currency Price')\n",
    "plt.legend()\n",
    "plt.show()"
   ]
  },
  {
   "cell_type": "code",
   "execution_count": 32,
   "metadata": {},
   "outputs": [],
   "source": [
    "# For Test Data Dates:\n",
    "\n",
    "test_date = test_JA.iloc[:, :1].values\n",
    "time_steps = 90\n",
    "X_testd, y_testd = create_dataset(test_date, time_steps)\n",
    "df_date = pd.DataFrame(y_testd, columns=['Date'])"
   ]
  },
  {
   "cell_type": "code",
   "execution_count": 33,
   "metadata": {},
   "outputs": [],
   "source": [
    "# Making a DataFrame For Predictions Data:\n",
    "df_predict = pd.DataFrame(predicted_y, columns=['Predictions'])"
   ]
  },
  {
   "cell_type": "code",
   "execution_count": 34,
   "metadata": {},
   "outputs": [],
   "source": [
    "# Actual Values Data(Test Data):\n",
    "test_data = test_JA.iloc[:, 1:2].values\n",
    "time_steps = 90\n",
    "X_test, y_test = create_dataset(test_data, time_steps)\n",
    "df_av = pd.DataFrame(y_test, columns=['ActualValues'])"
   ]
  },
  {
   "cell_type": "code",
   "execution_count": 35,
   "metadata": {},
   "outputs": [],
   "source": [
    "#Combining Actual Values and Predicted Values:\n",
    "finaldf = pd.concat([df_date, df_av, df_predict], axis = 1)"
   ]
  },
  {
   "cell_type": "code",
   "execution_count": 36,
   "metadata": {},
   "outputs": [
    {
     "data": {
      "text/plain": [
       "(162, 3)"
      ]
     },
     "execution_count": 36,
     "metadata": {},
     "output_type": "execute_result"
    }
   ],
   "source": [
    "finaldf.shape"
   ]
  },
  {
   "cell_type": "code",
   "execution_count": 37,
   "metadata": {},
   "outputs": [
    {
     "data": {
      "text/html": [
       "<div>\n",
       "<style scoped>\n",
       "    .dataframe tbody tr th:only-of-type {\n",
       "        vertical-align: middle;\n",
       "    }\n",
       "\n",
       "    .dataframe tbody tr th {\n",
       "        vertical-align: top;\n",
       "    }\n",
       "\n",
       "    .dataframe thead th {\n",
       "        text-align: right;\n",
       "    }\n",
       "</style>\n",
       "<table border=\"1\" class=\"dataframe\">\n",
       "  <thead>\n",
       "    <tr style=\"text-align: right;\">\n",
       "      <th></th>\n",
       "      <th>Date</th>\n",
       "      <th>ActualValues</th>\n",
       "      <th>Predictions</th>\n",
       "    </tr>\n",
       "  </thead>\n",
       "  <tbody>\n",
       "    <tr>\n",
       "      <th>0</th>\n",
       "      <td>2020-05-12</td>\n",
       "      <td>47.830002</td>\n",
       "      <td>47.930027</td>\n",
       "    </tr>\n",
       "    <tr>\n",
       "      <th>1</th>\n",
       "      <td>2020-05-13</td>\n",
       "      <td>46.240002</td>\n",
       "      <td>48.793442</td>\n",
       "    </tr>\n",
       "    <tr>\n",
       "      <th>2</th>\n",
       "      <td>2020-05-14</td>\n",
       "      <td>48.849998</td>\n",
       "      <td>49.057087</td>\n",
       "    </tr>\n",
       "    <tr>\n",
       "      <th>3</th>\n",
       "      <td>2020-05-15</td>\n",
       "      <td>47.700001</td>\n",
       "      <td>49.029503</td>\n",
       "    </tr>\n",
       "    <tr>\n",
       "      <th>4</th>\n",
       "      <td>2020-05-18</td>\n",
       "      <td>51.459999</td>\n",
       "      <td>48.841743</td>\n",
       "    </tr>\n",
       "  </tbody>\n",
       "</table>\n",
       "</div>"
      ],
      "text/plain": [
       "        Date  ActualValues  Predictions\n",
       "0 2020-05-12     47.830002    47.930027\n",
       "1 2020-05-13     46.240002    48.793442\n",
       "2 2020-05-14     48.849998    49.057087\n",
       "3 2020-05-15     47.700001    49.029503\n",
       "4 2020-05-18     51.459999    48.841743"
      ]
     },
     "execution_count": 37,
     "metadata": {},
     "output_type": "execute_result"
    }
   ],
   "source": [
    "finaldf.head()"
   ]
  },
  {
   "cell_type": "code",
   "execution_count": null,
   "metadata": {},
   "outputs": [],
   "source": []
  },
  {
   "cell_type": "code",
   "execution_count": 41,
   "metadata": {},
   "outputs": [],
   "source": [
    "finaldf['average_value'] = finaldf[['ActualValues', 'Predictions']].mean(axis=1)"
   ]
  },
  {
   "cell_type": "code",
   "execution_count": 42,
   "metadata": {},
   "outputs": [
    {
     "data": {
      "text/html": [
       "<div>\n",
       "<style scoped>\n",
       "    .dataframe tbody tr th:only-of-type {\n",
       "        vertical-align: middle;\n",
       "    }\n",
       "\n",
       "    .dataframe tbody tr th {\n",
       "        vertical-align: top;\n",
       "    }\n",
       "\n",
       "    .dataframe thead th {\n",
       "        text-align: right;\n",
       "    }\n",
       "</style>\n",
       "<table border=\"1\" class=\"dataframe\">\n",
       "  <thead>\n",
       "    <tr style=\"text-align: right;\">\n",
       "      <th></th>\n",
       "      <th>Date</th>\n",
       "      <th>ActualValues</th>\n",
       "      <th>Predictions</th>\n",
       "      <th>average_value</th>\n",
       "    </tr>\n",
       "  </thead>\n",
       "  <tbody>\n",
       "    <tr>\n",
       "      <th>0</th>\n",
       "      <td>2020-05-12</td>\n",
       "      <td>47.830002</td>\n",
       "      <td>47.930027</td>\n",
       "      <td>47.880014</td>\n",
       "    </tr>\n",
       "    <tr>\n",
       "      <th>1</th>\n",
       "      <td>2020-05-13</td>\n",
       "      <td>46.240002</td>\n",
       "      <td>48.793442</td>\n",
       "      <td>47.516722</td>\n",
       "    </tr>\n",
       "    <tr>\n",
       "      <th>2</th>\n",
       "      <td>2020-05-14</td>\n",
       "      <td>48.849998</td>\n",
       "      <td>49.057087</td>\n",
       "      <td>48.953543</td>\n",
       "    </tr>\n",
       "    <tr>\n",
       "      <th>3</th>\n",
       "      <td>2020-05-15</td>\n",
       "      <td>47.700001</td>\n",
       "      <td>49.029503</td>\n",
       "      <td>48.364752</td>\n",
       "    </tr>\n",
       "    <tr>\n",
       "      <th>4</th>\n",
       "      <td>2020-05-18</td>\n",
       "      <td>51.459999</td>\n",
       "      <td>48.841743</td>\n",
       "      <td>50.150871</td>\n",
       "    </tr>\n",
       "  </tbody>\n",
       "</table>\n",
       "</div>"
      ],
      "text/plain": [
       "        Date  ActualValues  Predictions  average_value\n",
       "0 2020-05-12     47.830002    47.930027      47.880014\n",
       "1 2020-05-13     46.240002    48.793442      47.516722\n",
       "2 2020-05-14     48.849998    49.057087      48.953543\n",
       "3 2020-05-15     47.700001    49.029503      48.364752\n",
       "4 2020-05-18     51.459999    48.841743      50.150871"
      ]
     },
     "execution_count": 42,
     "metadata": {},
     "output_type": "execute_result"
    }
   ],
   "source": [
    "finaldf.head()"
   ]
  },
  {
   "cell_type": "code",
   "execution_count": 43,
   "metadata": {},
   "outputs": [],
   "source": [
    "# getting Difference\n",
    "finaldf['value_diff'] = finaldf['ActualValues'] - finaldf['Predictions']"
   ]
  },
  {
   "cell_type": "code",
   "execution_count": 44,
   "metadata": {},
   "outputs": [
    {
     "data": {
      "text/html": [
       "<div>\n",
       "<style scoped>\n",
       "    .dataframe tbody tr th:only-of-type {\n",
       "        vertical-align: middle;\n",
       "    }\n",
       "\n",
       "    .dataframe tbody tr th {\n",
       "        vertical-align: top;\n",
       "    }\n",
       "\n",
       "    .dataframe thead th {\n",
       "        text-align: right;\n",
       "    }\n",
       "</style>\n",
       "<table border=\"1\" class=\"dataframe\">\n",
       "  <thead>\n",
       "    <tr style=\"text-align: right;\">\n",
       "      <th></th>\n",
       "      <th>Date</th>\n",
       "      <th>ActualValues</th>\n",
       "      <th>Predictions</th>\n",
       "      <th>average_value</th>\n",
       "      <th>value_diff</th>\n",
       "    </tr>\n",
       "  </thead>\n",
       "  <tbody>\n",
       "    <tr>\n",
       "      <th>0</th>\n",
       "      <td>2020-05-12</td>\n",
       "      <td>47.830002</td>\n",
       "      <td>47.930027</td>\n",
       "      <td>47.880014</td>\n",
       "      <td>-0.100025</td>\n",
       "    </tr>\n",
       "    <tr>\n",
       "      <th>1</th>\n",
       "      <td>2020-05-13</td>\n",
       "      <td>46.240002</td>\n",
       "      <td>48.793442</td>\n",
       "      <td>47.516722</td>\n",
       "      <td>-2.553440</td>\n",
       "    </tr>\n",
       "    <tr>\n",
       "      <th>2</th>\n",
       "      <td>2020-05-14</td>\n",
       "      <td>48.849998</td>\n",
       "      <td>49.057087</td>\n",
       "      <td>48.953543</td>\n",
       "      <td>-0.207088</td>\n",
       "    </tr>\n",
       "    <tr>\n",
       "      <th>3</th>\n",
       "      <td>2020-05-15</td>\n",
       "      <td>47.700001</td>\n",
       "      <td>49.029503</td>\n",
       "      <td>48.364752</td>\n",
       "      <td>-1.329502</td>\n",
       "    </tr>\n",
       "    <tr>\n",
       "      <th>4</th>\n",
       "      <td>2020-05-18</td>\n",
       "      <td>51.459999</td>\n",
       "      <td>48.841743</td>\n",
       "      <td>50.150871</td>\n",
       "      <td>2.618256</td>\n",
       "    </tr>\n",
       "  </tbody>\n",
       "</table>\n",
       "</div>"
      ],
      "text/plain": [
       "        Date  ActualValues  Predictions  average_value  value_diff\n",
       "0 2020-05-12     47.830002    47.930027      47.880014   -0.100025\n",
       "1 2020-05-13     46.240002    48.793442      47.516722   -2.553440\n",
       "2 2020-05-14     48.849998    49.057087      48.953543   -0.207088\n",
       "3 2020-05-15     47.700001    49.029503      48.364752   -1.329502\n",
       "4 2020-05-18     51.459999    48.841743      50.150871    2.618256"
      ]
     },
     "execution_count": 44,
     "metadata": {},
     "output_type": "execute_result"
    }
   ],
   "source": [
    "finaldf.head()"
   ]
  },
  {
   "cell_type": "code",
   "execution_count": null,
   "metadata": {},
   "outputs": [],
   "source": []
  }
 ],
 "metadata": {
  "kernelspec": {
   "display_name": "Python 3",
   "language": "python",
   "name": "python3"
  },
  "language_info": {
   "codemirror_mode": {
    "name": "ipython",
    "version": 3
   },
   "file_extension": ".py",
   "mimetype": "text/x-python",
   "name": "python",
   "nbconvert_exporter": "python",
   "pygments_lexer": "ipython3",
   "version": "3.7.7"
  }
 },
 "nbformat": 4,
 "nbformat_minor": 4
}
